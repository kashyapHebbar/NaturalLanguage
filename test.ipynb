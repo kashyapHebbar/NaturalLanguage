{
 "cells": [
  {
   "cell_type": "code",
   "execution_count": 2,
   "metadata": {},
   "outputs": [],
   "source": [
    "import requests"
   ]
  },
  {
   "attachments": {},
   "cell_type": "markdown",
   "metadata": {},
   "source": [
    "GET Test Endpoint"
   ]
  },
  {
   "cell_type": "code",
   "execution_count": 6,
   "metadata": {},
   "outputs": [
    {
     "name": "stdout",
     "output_type": "stream",
     "text": [
      "Successfully connected to the server.\n",
      "Response from the server:  {\"Status\":\"OK\"}\n"
     ]
    }
   ],
   "source": [
    "def test_endpoint(url):\n",
    "    \"\"\"\n",
    "    Sends a GET request to the given url and prints and returns the response.\n",
    "    \"\"\"\n",
    "    try:\n",
    "        # Send the GET request\n",
    "        response = requests.get(url)\n",
    "\n",
    "        # Check if the request was successful\n",
    "        if response.status_code == 200:\n",
    "            print(\"Successfully connected to the server.\")\n",
    "            print(\"Response from the server: \", response.text)\n",
    "            # Return the server's response\n",
    "            return response.text\n",
    "        else:\n",
    "            print(f\"Failed to connect to the server. Status code: {response.status_code}\")\n",
    "\n",
    "    except Exception as e:\n",
    "        print(\"An error occurred: \", e)\n",
    "\n",
    "# Define the server's url\n",
    "url = \"http://10.77.226.131/predict\"\n",
    "\n",
    "# Call the function to test the endpoint and store the response\n",
    "response_text = test_endpoint(url)\n"
   ]
  },
  {
   "attachments": {},
   "cell_type": "markdown",
   "metadata": {},
   "source": [
    "POST Test Endpoint"
   ]
  },
  {
   "cell_type": "code",
   "execution_count": 7,
   "metadata": {},
   "outputs": [
    {
     "name": "stdout",
     "output_type": "stream",
     "text": [
      "Successfully connected to the server.\n",
      "Response from the server:  {\"prediction\":\"dissatisfaction\"}\n"
     ]
    }
   ],
   "source": [
    "def test_post_endpoint(url, data):\n",
    "    \"\"\"\n",
    "    Sends a POST request to the given url with the given data and prints the response.\n",
    "    \"\"\"\n",
    "    try:\n",
    "        # Send the POST request\n",
    "        response = requests.post(url, json=data)\n",
    "\n",
    "        # Check if the request was successful\n",
    "        if response.status_code == 200:\n",
    "            print(\"Successfully connected to the server.\")\n",
    "            print(\"Response from the server: \", response.text)\n",
    "        else:\n",
    "            print(f\"Failed to connect to the server. Status code: {response.status_code}\")\n",
    "\n",
    "    except Exception as e:\n",
    "        print(\"An error occurred: \", e)\n",
    "\n",
    "# Define some data to send in the POST request\n",
    "data = {\"text\": \"i'm tired man\"}\n",
    "\n",
    "# Call the function to test the endpoint\n",
    "test_post_endpoint(url, data)\n"
   ]
  },
  {
   "attachments": {},
   "cell_type": "markdown",
   "metadata": {},
   "source": [
    "## Stretch Test "
   ]
  },
  {
   "cell_type": "code",
   "execution_count": null,
   "metadata": {},
   "outputs": [],
   "source": [
    "import concurrent.futures\n",
    "import requests\n",
    "import time\n",
    "\n",
    "# Set up number of requests you want to send\n",
    "NUM_REQUESTS = 10000\n",
    "\n",
    "# Define the URL and payload\n",
    "url = \"http://localhost/predict\"\n",
    "payload = {\n",
    "    \"text\": \"Man is like hell why does he cry\"\n",
    "}\n",
    "\n",
    "headers = {\n",
    "'Content-Type': 'application/json'\n",
    "}\n",
    "\n",
    "\n",
    "def send_request(url, payload, headers):\n",
    "    # Send a single request\n",
    "     response = requests.request(\"POST\", url, headers=headers, json=payload)\n",
    "     return response.status_code\n",
    "\n",
    "\n",
    "# Record start time\n",
    "start_time = time.time()\n",
    "\n",
    "# Send requests concurrently and record responses\n",
    "with concurrent.futures.ThreadPoolExecutor() as executor:\n",
    "    futures = {executor.submit(send_request, url, payload, headers)\n",
    "              for _ in range(NUM_REQUESTS)}\n",
    "\n",
    "responses = [future.result()\n",
    "            for future in concurrent.futures.as_completed(futures)]\n",
    "\n",
    "# Record end time\n",
    "end_time = time.time()\n",
    "\n",
    "# Calculate and print statistics\n",
    "total_requests = len(responses)\n",
    "# Assuming 200 is the HTTP status code for a successful request\n",
    "successful_requests = responses.count(200)\n",
    "failed_requests = total_requests - successful_requests\n",
    "time_taken = end_time - start_time\n",
    "req_per_second = total_requests / time_taken\n",
    "\n",
    "print(f\"Total requests: {total_requests}\")\n",
    "print(f\"Successful requests: {successful_requests}\")\n",
    "print(f\"Failed requests: {failed_requests}\")\n",
    "print(f\"Time taken: {time_taken} seconds\")\n",
    "print(f\"Requests per second: {req_per_second}\")"
   ]
  }
 ],
 "metadata": {
  "kernelspec": {
   "display_name": "Python 3",
   "language": "python",
   "name": "python3"
  },
  "language_info": {
   "codemirror_mode": {
    "name": "ipython",
    "version": 3
   },
   "file_extension": ".py",
   "mimetype": "text/x-python",
   "name": "python",
   "nbconvert_exporter": "python",
   "pygments_lexer": "ipython3",
   "version": "3.9.4"
  },
  "orig_nbformat": 4
 },
 "nbformat": 4,
 "nbformat_minor": 2
}
